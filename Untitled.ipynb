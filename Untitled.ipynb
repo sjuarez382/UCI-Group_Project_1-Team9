{
 "cells": [
  {
   "cell_type": "code",
   "execution_count": null,
   "metadata": {},
   "outputs": [],
   "source": [
    "# import depend\n",
    "import matplotlib.pyplot as plt\n",
    "import pandas as pd\n",
    "import numpy as np\n",
    "import requests\n",
    "import time\n",
    "import json\n",
    "import csv\n",
    "from scipy import stats\n",
    "from scipy.stats import linregress\n",
    "from datetime import date\n",
    "import scipy.stats as st\n",
    "# output_data = \"\"\n",
    "# import \n",
    "arrest_by_state = \"Resources/Table_22_Arrest_by_State_2016.csv\"\n",
    "income_by_state = \"Resources/h08.csv\"\n",
    "\n"
   ]
  },
  {
   "cell_type": "code",
   "execution_count": null,
   "metadata": {},
   "outputs": [],
   "source": [
    "# create data frames for each data set. Make sure to use the same data frames throughout \n",
    "test_data = pd.read_csv(\"Resources/Table_22_Arrest_by_State_2016.csv\")\n",
    "test_data.head()"
   ]
  },
  {
   "cell_type": "code",
   "execution_count": null,
   "metadata": {},
   "outputs": [],
   "source": [
    "test_data2 = pd.read_csv(\"Resources/h08.csv\")\n",
    "test_data2.head()"
   ]
  },
  {
   "cell_type": "code",
   "execution_count": null,
   "metadata": {
    "scrolled": false
   },
   "outputs": [],
   "source": [
    "new_df = test_data.loc[:,[\"State\", \"Ages\", \"Total\\nall \\nclasses1\", \"Violent\\ncrime2\", \"Property\\ncrime2\", \"Murder and\\nnonnegligent\\nmanslaughter\", \"Rape3\", \"Robbery\", \"Aggravated\\nassault\", \"Burglary\", \"Driving\\nunder the\\ninfluence\", \"Liquor\\nlaws\", \"Drunkenness4\", \"Disorderly\\nconduct\", \"Vagrancy\", \"All other\\noffenses\\n(except\\ntraffic)\", \"Suspicion\", \"Curfew\\nand\\nloitering\\nlaw\\nviolations\", \"Number\\nof\\nagencies\", \"2016\\nestimated \\npopulation\",]]\n",
    "new_df"
   ]
  },
  {
   "cell_type": "code",
   "execution_count": null,
   "metadata": {},
   "outputs": [],
   "source": [
    "new_df.columns"
   ]
  },
  {
   "cell_type": "code",
   "execution_count": null,
   "metadata": {},
   "outputs": [],
   "source": [
    "state_crime_df = new_df.rename(columns={\n",
    "    \"Total\\nall \\nclasses1\": \"Total Cases\",\n",
    "    \"Violent\\ncrime2\": \"Violent Crime\",\n",
    "    \"Property\\ncrime2\": \"Property Crime\",\n",
    "    \"Murder and\\nnonnegligent\\nmanslaughter\": \"Murder and Non-Negligent Manslaughter\",\n",
    "    \"Rape3\": \"Rape\",\n",
    "    \"Aggravated\\nassault\": \"Aggravated Assault\",\n",
    "    \"Driving\\nunder the\\ninfluence\": \"DUI\",\n",
    "    \"Liquor\\nlaws\": \"Liqour Laws\",\n",
    "    \"Drunkenness4\": \"Drunkenness\",\n",
    "    \"Disorderly\\nconduct\": \"Disorderly Conduct\",\n",
    "    \"All other\\noffenses\\n(except\\ntraffic)\": \"All Other Offenses, Non Traffic\",\n",
    "    \"Curfew\\nand\\nloitering\\nlaw\\nviolations\": \"Curfew and Loitering\",\n",
    "    \"Number\\nof\\nagencies\": \"Total Number of Police Agencies\",\n",
    "    \"2016\\nestimated \\npopulation\": \"2016 Estimated Population\"\n",
    "})\n",
    "state_crime_df"
   ]
  },
  {
   "cell_type": "code",
   "execution_count": null,
   "metadata": {},
   "outputs": [],
   "source": [
    "# grab 2016 column from H08 \n",
    "income_df = test_data2.loc[:,[\"State\", \"2016\"]]\n"
   ]
  },
  {
   "cell_type": "code",
   "execution_count": null,
   "metadata": {},
   "outputs": [],
   "source": [
    "#remove NA values\n",
    "income_df = income_df.dropna()"
   ]
  },
  {
   "cell_type": "code",
   "execution_count": null,
   "metadata": {},
   "outputs": [],
   "source": [
    "#Renaming headers\n",
    "updated_income = income_df.rename(columns={\n",
    "    \"2016\": \"2016 Median Household Income\"\n",
    "})\n",
    "#preview of new df\n",
    "updated_income.head()"
   ]
  },
  {
   "cell_type": "code",
   "execution_count": null,
   "metadata": {},
   "outputs": [],
   "source": [
    "#testing transposing data\n",
    "age_df = state_crime_df.loc[:,[\"Ages\", \"Total Cases\"]]\n",
    "age_df"
   ]
  },
  {
   "cell_type": "code",
   "execution_count": null,
   "metadata": {},
   "outputs": [],
   "source": [
    "tr_age = age_df.transpose()\n",
    "tr_age"
   ]
  },
  {
   "cell_type": "code",
   "execution_count": null,
   "metadata": {},
   "outputs": [],
   "source": [
    "#groupby is pandas way of pivots errrrrr\n"
   ]
  },
  {
   "cell_type": "code",
   "execution_count": null,
   "metadata": {},
   "outputs": [],
   "source": []
  },
  {
   "cell_type": "code",
   "execution_count": null,
   "metadata": {},
   "outputs": [],
   "source": []
  },
  {
   "cell_type": "code",
   "execution_count": null,
   "metadata": {},
   "outputs": [],
   "source": []
  },
  {
   "cell_type": "code",
   "execution_count": null,
   "metadata": {},
   "outputs": [],
   "source": []
  },
  {
   "cell_type": "code",
   "execution_count": null,
   "metadata": {},
   "outputs": [],
   "source": []
  },
  {
   "cell_type": "code",
   "execution_count": null,
   "metadata": {},
   "outputs": [],
   "source": []
  }
 ],
 "metadata": {
  "kernelspec": {
   "display_name": "Python [conda env:root]",
   "language": "python",
   "name": "conda-root-py"
  },
  "language_info": {
   "codemirror_mode": {
    "name": "ipython",
    "version": 3
   },
   "file_extension": ".py",
   "mimetype": "text/x-python",
   "name": "python",
   "nbconvert_exporter": "python",
   "pygments_lexer": "ipython3",
   "version": "3.7.6"
  }
 },
 "nbformat": 4,
 "nbformat_minor": 4
}
